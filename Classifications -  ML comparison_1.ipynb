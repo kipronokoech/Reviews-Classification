{
 "cells": [
  {
   "cell_type": "markdown",
   "metadata": {},
   "source": [
    "# Description\n",
    "\n",
    " - TO-DO: We will classifier reviews as either positive or negative or neutral based on the message of the left  by the reviewer.\n",
    " \n",
    " - Data: Data is scrapped straight from the web. Data Scrapping is done in the notebook $\\underline{\\text{data_collection.ipynb}}$. The reviews are being made on TrustPilot about WorldRemit, a money transfer platform. Link to the pages where we scrapped data from: https://www.trustpilot.com/review/www.worldremit.com"
   ]
  },
  {
   "cell_type": "markdown",
   "metadata": {},
   "source": [
    "# Import necessary packages"
   ]
  },
  {
   "cell_type": "code",
   "execution_count": 1,
   "metadata": {},
   "outputs": [],
   "source": [
    "import numpy as np\n",
    "import random\n",
    "import matplotlib.pyplot as plt\n",
    "from sklearn.model_selection import train_test_split\n",
    "from sklearn.feature_extraction.text import CountVectorizer, TfidfVectorizer\n",
    "from sklearn.metrics import f1_score #f1 score to use it as and evaluation metric\n",
    "import ast #to convert string into dictionary\n",
    "from IPython.display import clear_output\n",
    "from sklearn import svm #support vector machine classifier\n",
    "from sklearn.metrics import confusion_matrix\n",
    "from sklearn.linear_model import LogisticRegression #import logistic regression\n",
    "from sklearn.tree import DecisionTreeClassifier #import Decision tree\n",
    "from sklearn.naive_bayes import GaussianNB\n",
    "from sklearn.ensemble import RandomForestClassifier\n",
    "import pandas as pd\n",
    "import seaborn as sb"
   ]
  },
  {
   "cell_type": "markdown",
   "metadata": {},
   "source": [
    "# Pre-processing data"
   ]
  },
  {
   "cell_type": "code",
   "execution_count": 2,
   "metadata": {},
   "outputs": [],
   "source": [
    "\n",
    "class Sentiment:\n",
    "    NEGATIVE = \"NEGATIVE\"\n",
    "    NEUTRAL = \"NEUTRAL\"\n",
    "    POSITIVE = \"POSITIVE\"\n",
    "\n",
    "class Review:\n",
    "    def __init__(self, text, score):\n",
    "        self.text = text\n",
    "        self.score = score\n",
    "        self.sentiment = self.get_sentiment()\n",
    "        \n",
    "    def get_sentiment(self):\n",
    "        if self.score <= 2:\n",
    "            return Sentiment.NEGATIVE\n",
    "        elif self.score == 3:\n",
    "            return Sentiment.NEUTRAL\n",
    "        else: #Score of 4 or 5\n",
    "            return Sentiment.POSITIVE\n",
    "#     def __str__(self):\n",
    "#         return  "
   ]
  },
  {
   "cell_type": "markdown",
   "metadata": {},
   "source": [
    "### Load a sample data point"
   ]
  },
  {
   "cell_type": "code",
   "execution_count": 3,
   "metadata": {},
   "outputs": [
    {
     "name": "stdout",
     "output_type": "stream",
     "text": [
      "{'socialShareUrl': 'https://www.trustpilot.com/reviews/5ed0251025e5d20a88a2057d', 'businessUnitId': '5090eace00006400051ded85', 'businessUnitDisplayName': 'WorldRemit', 'consumerId': '5ed0250fdfdf8632f9ee7ab6', 'consumerName': 'May', 'reviewId': '5ed0251025e5d20a88a2057d', 'reviewHeader': 'Wow - Great Service', 'reviewBody': 'Wow. Great Service with no issues.  Money was available same day in no time.', 'stars': 5}\n"
     ]
    }
   ],
   "source": [
    "#Most of the cleaning was done during the data web scraping\n",
    "\n",
    "with open(\"./data/Worldremit/reviews.txt\") as fp:\n",
    "    for index,line in enumerate(fp):\n",
    "\n",
    "        review = ast.literal_eval(line)\n",
    "        print(review)\n",
    "        break\n"
   ]
  },
  {
   "cell_type": "markdown",
   "metadata": {},
   "source": [
    "### Load full data"
   ]
  },
  {
   "cell_type": "code",
   "execution_count": 4,
   "metadata": {},
   "outputs": [],
   "source": [
    "#Most of the cleaning was done during the data web scraping\n",
    "\n",
    "reviews = []\n",
    "with open(\"./data/Worldremit/reviews.txt\") as fp:\n",
    "    for index,line in enumerate(fp):\n",
    "        #print(line)\n",
    "        review = ast.literal_eval(line)\n",
    "        reviews.append(Review(review['reviewBody'], review['stars']))\n",
    "        #review = json.loads(line)"
   ]
  },
  {
   "cell_type": "markdown",
   "metadata": {},
   "source": [
    "$\\underline{\\text{Note}}$ There are so many positive review cases than negative and neutral. Sign of a problem? We shall see."
   ]
  },
  {
   "cell_type": "code",
   "execution_count": 5,
   "metadata": {},
   "outputs": [
    {
     "data": {
      "text/plain": [
       "36456"
      ]
     },
     "execution_count": 5,
     "metadata": {},
     "output_type": "execute_result"
    }
   ],
   "source": [
    "len(reviews)"
   ]
  },
  {
   "cell_type": "markdown",
   "metadata": {},
   "source": [
    "### Split data into training and test set"
   ]
  },
  {
   "cell_type": "code",
   "execution_count": 6,
   "metadata": {},
   "outputs": [],
   "source": [
    "from sklearn.model_selection import train_test_split\n",
    "\n",
    "training, test = train_test_split(reviews, test_size=0.30, random_state=42)\n"
   ]
  },
  {
   "cell_type": "code",
   "execution_count": 7,
   "metadata": {},
   "outputs": [],
   "source": [
    "train_x,train_y = [x.text for x in training],[x.sentiment for x in training]\n",
    "test_x,test_y = [x.text for x in test],[x.sentiment for x in test]"
   ]
  },
  {
   "cell_type": "code",
   "execution_count": 8,
   "metadata": {},
   "outputs": [
    {
     "name": "stdout",
     "output_type": "stream",
     "text": [
      "23961\n",
      "1055\n",
      "503\n"
     ]
    }
   ],
   "source": [
    "print(train_y.count(Sentiment.POSITIVE))\n",
    "print(train_y.count(Sentiment.NEGATIVE))\n",
    "print(train_y.count(Sentiment.NEUTRAL))"
   ]
  },
  {
   "cell_type": "code",
   "execution_count": 9,
   "metadata": {},
   "outputs": [
    {
     "name": "stdout",
     "output_type": "stream",
     "text": [
      "10225\n",
      "499\n",
      "213\n"
     ]
    }
   ],
   "source": [
    "print(test_y.count(Sentiment.POSITIVE))\n",
    "print(test_y.count(Sentiment.NEGATIVE))\n",
    "print(test_y.count(Sentiment.NEUTRAL))"
   ]
  },
  {
   "cell_type": "code",
   "execution_count": 10,
   "metadata": {},
   "outputs": [
    {
     "data": {
      "image/png": "[encoded data removed]",
      "text/plain": [
       "<Figure size 504x504 with 1 Axes>"
      ]
     },
     "metadata": {
      "needs_background": "light"
     },
     "output_type": "display_data"
    }
   ],
   "source": [
    "class_ = [\"POSIITVE\",\"NEUTRAL\",\"NEGATIVE\"]\n",
    "data = [train_y.count(\"POSITIVE\"),train_y.count(\"NEUTRAL\"),train_y.count(\"NEGATIVE\")]\n",
    "plt.figure(figsize = (7,7))\n",
    "plt.bar(class_,data)\n",
    "plt.title(\"Imbalanced Data Composition\")\n",
    "plt.savefig(\"./plots/data_imbalanced.png\")"
   ]
  },
  {
   "cell_type": "markdown",
   "metadata": {},
   "source": [
    "### Vectorization of bags of of words"
   ]
  },
  {
   "cell_type": "code",
   "execution_count": 11,
   "metadata": {},
   "outputs": [
    {
     "name": "stdout",
     "output_type": "stream",
     "text": [
      "I have experience mobile money transfer with world remmit.That was awesome.\n",
      "  (0, 1403)\t0.3532790962242964\n",
      "  (0, 9205)\t0.5988751146270688\n",
      "  (0, 7114)\t0.36316699796678165\n",
      "  (0, 4267)\t0.30538942525299034\n",
      "  (0, 5316)\t0.21195074298502714\n",
      "  (0, 12227)\t0.2030061387738437\n",
      "  (0, 12014)\t0.20093383779808927\n",
      "  (0, 7161)\t0.14763916092087181\n",
      "  (0, 10920)\t0.22888792391839677\n",
      "  (0, 12310)\t0.22168033582595095\n",
      "  (0, 11254)\t0.20384139896930956\n",
      "[[0. 0. 0. ... 0. 0. 0.]]\n"
     ]
    }
   ],
   "source": [
    "from sklearn.feature_extraction.text import CountVectorizer, TfidfVectorizer\n",
    "\n",
    "# This book is great !\n",
    "# This book was so bad\n",
    "\n",
    "vectorizer = TfidfVectorizer()\n",
    "train_x_vectors = vectorizer.fit_transform(train_x)\n",
    "\n",
    "test_x_vectors = vectorizer.transform(test_x)\n",
    "\n",
    "print(train_x[10])\n",
    "print(train_x_vectors[10])\n",
    "print(train_x_vectors[10].toarray())"
   ]
  },
  {
   "cell_type": "markdown",
   "metadata": {},
   "source": [
    "# Fitting different classifiers and making Random predictions"
   ]
  },
  {
   "cell_type": "markdown",
   "metadata": {},
   "source": [
    "### 1) Support Vector Machine with a Linear Kernel"
   ]
  },
  {
   "cell_type": "code",
   "execution_count": 12,
   "metadata": {},
   "outputs": [
    {
     "name": "stdout",
     "output_type": "stream",
     "text": [
      "135\n",
      "Awesome 😉 👍 Super Fast\n",
      "Actual: POSITIVE\n",
      "Prediction ['POSITIVE']\n"
     ]
    },
    {
     "data": {
      "image/png": "[encoded data removed]",
      "text/plain": [
       "<Figure size 432x288 with 2 Axes>"
      ]
     },
     "metadata": {
      "needs_background": "light"
     },
     "output_type": "display_data"
    }
   ],
   "source": [
    "#train SVM classifier\n",
    "clf_svm = svm.SVC(kernel='linear')\n",
    "\n",
    "clf_svm.fit(train_x_vectors, train_y)\n",
    "#random prediction using SVM\n",
    "\n",
    "i = np.random.randint(0,1000)\n",
    "print(i)\n",
    "print(test_x[i])\n",
    "print(\"Actual:\",test_y[i])\n",
    "print(\"Prediction\",clf_svm.predict(test_x_vectors[i]))\n",
    "\n",
    "#confusion matrix  for SVM - you can have the confusion matrices for the other classifiers\n",
    "labels = [\"NEGATIVE\",\"NEUTRAL\",\"POSITIVE\"]\n",
    "pred_svm = clf_svm.predict(test_x_vectors)\n",
    "cm =confusion_matrix(test_y,pred_svm)\n",
    "\n",
    "df_cm = pd.DataFrame(cm, index=labels, columns=labels)\n",
    "\n",
    "sb.heatmap(df_cm, annot=True, fmt='d') #truth is on \"y\" and predicted is on \"x\".\n",
    "plt.title(\"Confusion matrix from SVM [Imbalanced]\")\n",
    "plt.savefig(\"./plots/confusion.png\")"
   ]
  },
  {
   "cell_type": "markdown",
   "metadata": {},
   "source": [
    "### 2) Decision Tree"
   ]
  },
  {
   "cell_type": "code",
   "execution_count": 13,
   "metadata": {},
   "outputs": [
    {
     "name": "stdout",
     "output_type": "stream",
     "text": [
      "249\n",
      "This is best ,quick and trust,fast and the best of all\n",
      "Actual: POSITIVE\n",
      "Prediction ['POSITIVE']\n"
     ]
    }
   ],
   "source": [
    "\n",
    "\n",
    "clf_dec = DecisionTreeClassifier()\n",
    "clf_dec.fit(train_x_vectors, train_y)\n",
    "\n",
    "i = np.random.randint(0,1000)\n",
    "print(i)\n",
    "print(test_x[i])\n",
    "print(\"Actual:\",test_y[i])\n",
    "print(\"Prediction\",clf_dec.predict(test_x_vectors[0]))\n",
    "\n"
   ]
  },
  {
   "cell_type": "markdown",
   "metadata": {},
   "source": [
    "### 3) Naive Bayes"
   ]
  },
  {
   "cell_type": "code",
   "execution_count": 14,
   "metadata": {},
   "outputs": [
    {
     "name": "stdout",
     "output_type": "stream",
     "text": [
      "507\n",
      "It just goes immediately.And you get feedback from receiver immediately.\n",
      "Actual: POSITIVE\n",
      "Prediction ['POSITIVE']\n"
     ]
    }
   ],
   "source": [
    "\n",
    "clf_gnb = DecisionTreeClassifier()\n",
    "clf_gnb.fit(train_x_vectors, train_y)\n",
    "\n",
    "clf_gnb.predict(test_x_vectors[0])\n",
    "\n",
    "\n",
    "i = np.random.randint(0,1000)\n",
    "print(i)\n",
    "print(test_x[i])\n",
    "print(\"Actual:\",test_y[i])\n",
    "print(\"Prediction\",clf_gnb.predict(test_x_vectors[0]))\n",
    "\n"
   ]
  },
  {
   "cell_type": "markdown",
   "metadata": {},
   "source": [
    "### 4) Ensemble Random Forest"
   ]
  },
  {
   "cell_type": "code",
   "execution_count": 15,
   "metadata": {},
   "outputs": [
    {
     "name": "stdout",
     "output_type": "stream",
     "text": [
      "401\n",
      "If you haven't try yet you should\n",
      "Actual: POSITIVE\n",
      "Prediction ['POSITIVE']\n"
     ]
    },
    {
     "name": "stderr",
     "output_type": "stream",
     "text": [
      "/usr/local/lib/python3.7/dist-packages/sklearn/ensemble/forest.py:245: FutureWarning: The default value of n_estimators will change from 10 in version 0.20 to 100 in 0.22.\n",
      "  \"10 in version 0.20 to 100 in 0.22.\", FutureWarning)\n"
     ]
    }
   ],
   "source": [
    "clf_rf = RandomForestClassifier(max_depth=2, random_state=0)\n",
    "clf_rf.fit(train_x_vectors, train_y)\n",
    "\n",
    "i = np.random.randint(0,1000)\n",
    "print(i)\n",
    "print(test_x[i])\n",
    "print(\"Actual:\",test_y[i])\n",
    "print(\"Prediction\",clf_rf.predict(test_x_vectors[0]))\n",
    "\n"
   ]
  },
  {
   "cell_type": "markdown",
   "metadata": {},
   "source": [
    "### 5) Logistic Regression"
   ]
  },
  {
   "cell_type": "code",
   "execution_count": 16,
   "metadata": {},
   "outputs": [
    {
     "name": "stderr",
     "output_type": "stream",
     "text": [
      "/usr/local/lib/python3.7/dist-packages/sklearn/linear_model/logistic.py:432: FutureWarning: Default solver will be changed to 'lbfgs' in 0.22. Specify a solver to silence this warning.\n",
      "  FutureWarning)\n",
      "/usr/local/lib/python3.7/dist-packages/sklearn/linear_model/logistic.py:469: FutureWarning: Default multi_class will be changed to 'auto' in 0.22. Specify the multi_class option to silence this warning.\n",
      "  \"this warning.\", FutureWarning)\n"
     ]
    },
    {
     "data": {
      "text/plain": [
       "array(['POSITIVE'], dtype='<U8')"
      ]
     },
     "execution_count": 16,
     "metadata": {},
     "output_type": "execute_result"
    }
   ],
   "source": [
    "clf_log = LogisticRegression()\n",
    "clf_log.fit(train_x_vectors, train_y)\n",
    "\n",
    "clf_log.predict(test_x_vectors[0])\n"
   ]
  },
  {
   "cell_type": "markdown",
   "metadata": {},
   "source": [
    "# Evaluation Metrics"
   ]
  },
  {
   "cell_type": "markdown",
   "metadata": {},
   "source": [
    "### Mean Accuracy"
   ]
  },
  {
   "cell_type": "code",
   "execution_count": 17,
   "metadata": {},
   "outputs": [
    {
     "data": {
      "image/png": "[encoded data removed]",
      "text/plain": [
       "<Figure size 432x288 with 1 Axes>"
      ]
     },
     "metadata": {
      "needs_background": "light"
     },
     "output_type": "display_data"
    },
    {
     "data": {
      "text/plain": [
       "<Figure size 504x504 with 0 Axes>"
      ]
     },
     "metadata": {},
     "output_type": "display_data"
    },
    {
     "name": "stdout",
     "output_type": "stream",
     "text": [
      "0.9582152326963518\n",
      "0.9221907287190272\n",
      "0.9217335649629698\n",
      "0.9532778641309317\n",
      "0.9348998811374234\n"
     ]
    }
   ],
   "source": [
    "classifiers = [\"SVM\",\"DTC\",\"NB(G)\",\"LOGISTIC\",\"ERF\"]\n",
    "\n",
    "svm_score = clf_svm.score(test_x_vectors, test_y)\n",
    "\n",
    "dtc_score = clf_dec.score(test_x_vectors, test_y)\n",
    "\n",
    "nbg_score = clf_gnb.score(test_x_vectors, test_y)\n",
    "\n",
    "logistic_score = clf_log.score(test_x_vectors, test_y)\n",
    "\n",
    "rf_score = clf_rf.score(test_x_vectors, test_y)\n",
    "\n",
    "scores =[svm_score,dtc_score,nbg_score,logistic_score,rf_score ]\n",
    "\n",
    "plt.bar(classifiers,scores)\n",
    "plt.title(\"Accuracy Scores for Different Classifiers [Imbalanced]\")\n",
    "plt.xlabel(\"Classifiers\")\n",
    "plt.ylabel(\"Accuracy\")\n",
    "plt.savefig(\"./plots/accuracy[imbalanced].png\")\n",
    "plt.figure(figsize=(7,7))\n",
    "plt.show()\n",
    "\n",
    "print(svm_score)\n",
    "print(dtc_score)\n",
    "print(nbg_score)\n",
    "print(logistic_score )\n",
    "print(rf_score )\n"
   ]
  },
  {
   "cell_type": "code",
   "execution_count": null,
   "metadata": {},
   "outputs": [],
   "source": []
  },
  {
   "cell_type": "markdown",
   "metadata": {},
   "source": [
    "# A problem"
   ]
  },
  {
   "cell_type": "markdown",
   "metadata": {},
   "source": [
    "### We're are getting accuracy above 90, is that right?\n",
    "\n",
    "The answer is no. The data is imbalance and using accuracy as evalution\n",
    "metric is not a good idea (on a light not - the problem could be something else). Recall that we have 11250 positive,549 negative and 232 neutral reviews. A total of 12031 reviews used in testing set ($0.33\\times36456$).\n",
    "\n",
    "Case example: If the classifier predicts all positive reviews correctly and none for negative and neutral reviews then the accuracy is $$\\frac{11250}{12031} = 0.935 = 93.5\\% !!!!!!! $$\n",
    "\n",
    "This means that our model will be 93.5% accurate and we will think that the model is good but in reality the model \"just knows best\" how the predict one class (positive reviews). To understand this let us check the f1 score below?\n",
    "\n",
    "After seeing the f1 score it is clear that the models are just good on predicting the positives? This is the problem witht data. There are so many positive cases that the negative ones or neutral."
   ]
  },
  {
   "cell_type": "code",
   "execution_count": 19,
   "metadata": {},
   "outputs": [
    {
     "name": "stderr",
     "output_type": "stream",
     "text": [
      "/usr/local/lib/python3.7/dist-packages/sklearn/metrics/classification.py:1437: UndefinedMetricWarning: F-score is ill-defined and being set to 0.0 in labels with no predicted samples.\n",
      "  'precision', 'predicted', average, warn_for)\n",
      "/usr/lib/python3/dist-packages/matplotlib/figure.py:445: UserWarning: Matplotlib is currently using module://ipykernel.pylab.backend_inline, which is a non-GUI backend, so cannot show the figure.\n",
      "  % get_backend())\n"
     ]
    },
    {
     "name": "stdout",
     "output_type": "stream",
     "text": [
      "[0.97930372 0.         0.67703349]\n",
      "[0.96179863 0.0599455  0.40292276]\n",
      "[0.96160397 0.0536193  0.4012605 ]\n",
      "[0.97640132 0.         0.59037711]\n",
      "[0.96635479 0.         0.        ]\n"
     ]
    },
    {
     "data": {
      "image/png": "[encoded data removed]",
      "text/plain": [
       "<Figure size 432x288 with 1 Axes>"
      ]
     },
     "metadata": {
      "needs_background": "light"
     },
     "output_type": "display_data"
    }
   ],
   "source": [
    "# F1 Scores\n",
    "\n",
    "#calculating f1 score\n",
    "f1_svm =(f1_score(test_y, clf_svm.predict(test_x_vectors), average=None, \n",
    "                  labels=[Sentiment.POSITIVE, Sentiment.NEUTRAL, Sentiment.NEGATIVE]))\n",
    "f1_dtc = (f1_score(test_y, clf_dec.predict(test_x_vectors), average=None, \n",
    "                   labels=[Sentiment.POSITIVE, Sentiment.NEUTRAL, Sentiment.NEGATIVE]))\n",
    "f1_nb = (f1_score(test_y, clf_gnb.predict(test_x_vectors), average=None, \n",
    "                  labels=[Sentiment.POSITIVE, Sentiment.NEUTRAL, Sentiment.NEGATIVE]))\n",
    "\n",
    "f1_logistic = (f1_score(test_y, clf_log.predict(test_x_vectors), average=None, \n",
    "                        labels=[Sentiment.POSITIVE, Sentiment.NEUTRAL, Sentiment.NEGATIVE]))\n",
    "\n",
    "f1_rf = (f1_score(test_y, clf_rf.predict(test_x_vectors), average=None, \n",
    "                        labels=[Sentiment.POSITIVE, Sentiment.NEUTRAL, Sentiment.NEGATIVE]))\n",
    "# plotting f1 scores\n",
    "\n",
    "classifiers = [\"SVM\",\"DTC\",\"NB\",\"LOGISITIC\",\"ERF\"]\n",
    "f1_svm_,f1_dtc_,f1_nb_,f1_logistic_,f1_rf_= list(f1_svm),list(f1_dtc),list(f1_nb),list(f1_logistic),list(f1_rf)\n",
    "data = []\n",
    "for i,j,k,l,m in zip(f1_svm_,f1_dtc_,f1_nb_,f1_logistic_,f1_rf_):\n",
    "    data.append([i,j,k,l,m])\n",
    "    \n",
    "x = np.arange(len(classifiers))  # the label locations\n",
    "width = 0.35  # the width of the bars\n",
    "\n",
    "fig, ax = plt.subplots()\n",
    "rects1 = ax.bar(x - width/2, data[0], width, label='POSITIVE')\n",
    "rects2 = ax.bar(x + width/2, data[1], width, label='NEUTRAL')\n",
    "rects3 = ax.bar(x + width, data[2], width, label='NEGATIVE')\n",
    "\n",
    "\n",
    "# Add some text for labels, title and custom x-axis tick labels, etc.\n",
    "ax.set_ylabel('Scores')\n",
    "ax.set_title('F1 scores by review kind and classifier kind[Imbalanced]')\n",
    "ax.set_xticks(x)\n",
    "ax.set_xticklabels(classifiers)\n",
    "ax.legend()\n",
    "plt.savefig(\"./plots/f1.png\")\n",
    "fig.show()\n",
    "\n",
    "#print f1 scores\n",
    "print(f1_svm)\n",
    "print(f1_dtc)\n",
    "print(f1_nb)\n",
    "print(f1_logistic)\n",
    "print(f1_rf)"
   ]
  },
  {
   "cell_type": "markdown",
   "metadata": {},
   "source": [
    "# Probable solution to the problem\n",
    "\n",
    "The solution to the problem we have is notebook: $\\underline{\\text{Classifications -  ML comparison_1.ipynb}}$"
   ]
  },
  {
   "cell_type": "code",
   "execution_count": null,
   "metadata": {},
   "outputs": [],
   "source": []
  }
 ],
 "metadata": {
  "kernelspec": {
   "display_name": "Python 3",
   "language": "python",
   "name": "python3"
  },
  "language_info": {
   "codemirror_mode": {
    "name": "ipython",
    "version": 3
   },
   "file_extension": ".py",
   "mimetype": "text/x-python",
   "name": "python",
   "nbconvert_exporter": "python",
   "pygments_lexer": "ipython3",
   "version": "3.7.3"
  }
 },
 "nbformat": 4,
 "nbformat_minor": 2
}
