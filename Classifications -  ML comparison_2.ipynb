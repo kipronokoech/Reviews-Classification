{
 "cells": [
  {
   "cell_type": "markdown",
   "metadata": {},
   "source": [
    "Data Source: https://www.trustpilot.com/review/www.worldremit.com"
   ]
  },
  {
   "cell_type": "markdown",
   "metadata": {},
   "source": [
    "### Import necessary packages"
   ]
  },
  {
   "cell_type": "code",
   "execution_count": 1,
   "metadata": {},
   "outputs": [],
   "source": [
    "import json\n",
    "import numpy as np\n",
    "import random\n",
    "from sklearn.model_selection import train_test_split\n",
    "from sklearn.feature_extraction.text import CountVectorizer, TfidfVectorizer\n",
    "from sklearn.metrics import f1_score\n",
    "import ast #to convert string into dictionary\n",
    "from IPython.display import clear_output\n",
    "from sklearn import svm\n",
    "from sklearn.metrics import f1_score,confusion_matrix\n",
    "from sklearn.linear_model import LogisticRegression\n",
    "from sklearn.naive_bayes import GaussianNB\n",
    "from sklearn.ensemble import RandomForestClassifier\n",
    "import matplotlib.pyplot as plt\n",
    "import pandas as pd\n",
    "import seaborn as sb"
   ]
  },
  {
   "cell_type": "markdown",
   "metadata": {},
   "source": [
    "### Preprocessing - Loading and cleaning the data"
   ]
  },
  {
   "cell_type": "code",
   "execution_count": 2,
   "metadata": {},
   "outputs": [],
   "source": [
    "\n",
    "class Sentiment:\n",
    "    NEGATIVE = \"NEGATIVE\"\n",
    "    NEUTRAL = \"NEUTRAL\"\n",
    "    POSITIVE = \"POSITIVE\"\n",
    "\n",
    "class Review:\n",
    "    def __init__(self, text, score):\n",
    "        self.text = text\n",
    "        self.score = score\n",
    "        self.sentiment = self.get_sentiment()\n",
    "        \n",
    "    def get_sentiment(self):\n",
    "        if self.score <= 2:\n",
    "            return Sentiment.NEGATIVE\n",
    "        elif self.score == 3:\n",
    "            return Sentiment.NEUTRAL\n",
    "        else: #Score of 4 or 5\n",
    "            return Sentiment.POSITIVE\n",
    "#     def __str__(self):\n",
    "#         return  \n",
    "class ReviewContainer:\n",
    "    def __init__(self, reviews):\n",
    "        self.reviews = reviews\n",
    "        \n",
    "    def get_text(self):\n",
    "        return [x.text for x in self.reviews]\n",
    "    \n",
    "    def get_sentiment(self):\n",
    "        return [x.sentiment for x in self.reviews]\n",
    "        \n",
    "    def evenly_distribute(self):\n",
    "        negative = list(filter(lambda x: x.sentiment == Sentiment.NEGATIVE, self.reviews))\n",
    "        positive = list(filter(lambda x: x.sentiment == Sentiment.POSITIVE, self.reviews))\n",
    "        positive_shrunk = positive[:len(negative)]\n",
    "        self.reviews = negative + positive_shrunk\n",
    "        random.shuffle(self.reviews)\n",
    "        \n",
    "        "
   ]
  },
  {
   "cell_type": "markdown",
   "metadata": {},
   "source": []
  },
  {
   "cell_type": "code",
   "execution_count": null,
   "metadata": {},
   "outputs": [],
   "source": []
  },
  {
   "cell_type": "code",
   "execution_count": 3,
   "metadata": {},
   "outputs": [
    {
     "name": "stdout",
     "output_type": "stream",
     "text": [
      "{'socialShareUrl': 'https://www.trustpilot.com/reviews/5ed0251025e5d20a88a2057d', 'businessUnitId': '5090eace00006400051ded85', 'businessUnitDisplayName': 'WorldRemit', 'consumerId': '5ed0250fdfdf8632f9ee7ab6', 'consumerName': 'May', 'reviewId': '5ed0251025e5d20a88a2057d', 'reviewHeader': 'Wow - Great Service', 'reviewBody': 'Wow. Great Service with no issues.  Money was available same day in no time.', 'stars': 5}\n"
     ]
    }
   ],
   "source": [
    "#Most of the cleaning was done during the data web scraping\n",
    "\n",
    "with open(\"./data/Worldremit/reviews.txt\") as fp:\n",
    "    for index,line in enumerate(fp):\n",
    "\n",
    "        review = ast.literal_eval(line)\n",
    "        print(review)\n",
    "        break\n"
   ]
  },
  {
   "cell_type": "code",
   "execution_count": 4,
   "metadata": {},
   "outputs": [],
   "source": [
    "#Most of the cleaning was done during the data web scraping\n",
    "\n",
    "reviews = []\n",
    "with open(\"./data/Worldremit/reviews.txt\") as fp:\n",
    "    for index,line in enumerate(fp):\n",
    "        #print(line)\n",
    "        review = ast.literal_eval(line)\n",
    "        reviews.append(Review(review['reviewBody'], review['stars']))\n",
    "        #review = json.loads(line)"
   ]
  },
  {
   "cell_type": "code",
   "execution_count": 5,
   "metadata": {},
   "outputs": [
    {
     "data": {
      "text/plain": [
       "36456"
      ]
     },
     "execution_count": 5,
     "metadata": {},
     "output_type": "execute_result"
    }
   ],
   "source": [
    "#total review\n",
    "len(reviews)"
   ]
  },
  {
   "cell_type": "code",
   "execution_count": 6,
   "metadata": {},
   "outputs": [],
   "source": [
    "\n",
    "#splitting data into test and train splits 30:70\n",
    "training, test = train_test_split(reviews, test_size=0.30, random_state=42)\n"
   ]
  },
  {
   "cell_type": "code",
   "execution_count": 7,
   "metadata": {},
   "outputs": [],
   "source": [
    "#Call the Reviw container to classifiers number of stars as either positive or negative or neutral\n",
    "train_container = ReviewContainer(training)\n",
    "\n",
    "test_container = ReviewContainer(test)"
   ]
  },
  {
   "cell_type": "code",
   "execution_count": null,
   "metadata": {},
   "outputs": [],
   "source": []
  },
  {
   "cell_type": "code",
   "execution_count": 8,
   "metadata": {},
   "outputs": [
    {
     "name": "stdout",
     "output_type": "stream",
     "text": [
      "1055\n",
      "1055\n",
      "0\n"
     ]
    }
   ],
   "source": [
    "\n",
    "#Balance the data. Note that we do not include the neutral review here\n",
    "train_container.evenly_distribute()\n",
    "train_x = train_container.get_text()\n",
    "train_y = train_container.get_sentiment()\n",
    "\n",
    "test_container.evenly_distribute()\n",
    "test_x = test_container.get_text()\n",
    "test_y = test_container.get_sentiment()\n",
    "\n",
    "#Check the new numbers now\n",
    "print(train_y.count(Sentiment.POSITIVE))\n",
    "print(train_y.count(Sentiment.NEGATIVE))\n",
    "print(train_y.count(Sentiment.NEUTRAL))\n"
   ]
  },
  {
   "cell_type": "code",
   "execution_count": 9,
   "metadata": {},
   "outputs": [
    {
     "data": {
      "image/png": "[encoded data removed]",
      "text/plain": [
       "<Figure size 504x504 with 1 Axes>"
      ]
     },
     "metadata": {
      "needs_background": "light"
     },
     "output_type": "display_data"
    }
   ],
   "source": [
    "#plot fo data distribution\n",
    "\n",
    "class_ = [\"POSIITVE\",\"NEUTRAL\",\"NEGATIVE\"]\n",
    "data = [train_y.count(\"POSITIVE\"),train_y.count(\"NEUTRAL\"),train_y.count(\"NEGATIVE\")]\n",
    "\n",
    "plt.figure(figsize = (7,7))\n",
    "plt.bar(class_,data)\n",
    "plt.title(\"Balanced Data Composition\")\n",
    "plt.savefig(\"./plots/data_balance.png\")"
   ]
  },
  {
   "cell_type": "markdown",
   "metadata": {},
   "source": [
    "## Bag of words Vectorization\n",
    "\n",
    "Links:\n",
    "https://scikit-learn.org/stable/modules/feature_extraction.html\n",
    "\n",
    "https://scikit-learn.org/stable/modules/generated/sklearn.feature_extraction.text.CountVectorizer.html\n",
    "\n",
    "Consider this two sentenses \n",
    "\n",
    "1) Excellent Services by the world remit team.Recomend.\n",
    "\n",
    "2) Bad Services. Transaction delayed for three days.Don't recommend.\n",
    "\n",
    "From above two sentenses can be writen as a bag of words as follows (no word repetition):\n",
    "\n",
    "**Excellent Services by the world remit team recommend bad transaction delayed for three days don't**\n",
    "\n",
    "We now tokenize this bag of words as shown below.\n",
    "\n",
    "----\n",
    "| 0 | Excellent | Sevices| by | the | world | remit | team | recommend | bad | services | transaction | delayed | for | three | days | don't |\n",
    "| --- | --- | ---| --- | --- | --- | --- | --- | --- | --- | --- | --- | --- | --- | --- | --- | --- |\n",
    "| 1 | 1 | 1| 1 | 1 | 1 | 1 | 1 | 1 | 0 | 1 | 0 | 0 | 0 | 0 | 0 | 0 |\n",
    "| 2 | 0 | 1| 0 | 0 | 0 | 0 | 0 | 1 | 1 | 1 | 1 | 1 | 1 | 1 | 1 | 1 |"
   ]
  },
  {
   "cell_type": "code",
   "execution_count": 10,
   "metadata": {},
   "outputs": [
    {
     "name": "stdout",
     "output_type": "stream",
     "text": [
      "  (0, 8)\t1\n",
      "  (0, 3)\t1\n",
      "  (0, 6)\t1\n",
      "  (0, 2)\t1\n",
      "  (0, 1)\t1\n",
      "  (1, 8)\t1\n",
      "  (1, 3)\t1\n",
      "  (1, 6)\t1\n",
      "  (1, 1)\t2\n",
      "  (1, 5)\t1\n",
      "  (2, 8)\t1\n",
      "  (2, 3)\t1\n",
      "  (2, 6)\t1\n",
      "  (2, 0)\t1\n",
      "  (2, 7)\t1\n",
      "  (2, 4)\t1\n",
      "  (3, 8)\t1\n",
      "  (3, 3)\t1\n",
      "  (3, 6)\t1\n",
      "  (3, 2)\t1\n",
      "  (3, 1)\t1\n",
      "['and', 'document', 'first', 'is', 'one', 'second', 'the', 'third', 'this']\n",
      "[[0 1 1 1 0 0 1 0 1]\n",
      " [0 2 0 1 0 1 1 0 1]\n",
      " [1 0 0 1 1 0 1 1 1]\n",
      " [0 1 1 1 0 0 1 0 1]]\n"
     ]
    }
   ],
   "source": [
    "# Vectorizaation on sklearn - simple example\n",
    "corpus = [\n",
    "    'This is the first document.',\n",
    "    'This document is the second document.',\n",
    "     'And this is the third one.',\n",
    "    'Is this the first document?',\n",
    " ]\n",
    "vectorizer = CountVectorizer()\n",
    "X = vectorizer.fit_transform(corpus)\n",
    "print(X) #this is just a matrix with position as tuple and token in that position\n",
    "print(vectorizer.get_feature_names()) #all unique words in all \n",
    "print(X.toarray())#clearnly a matrix with each row as the tokenized values of each sentense"
   ]
  },
  {
   "cell_type": "code",
   "execution_count": 11,
   "metadata": {},
   "outputs": [
    {
     "name": "stdout",
     "output_type": "stream",
     "text": [
      "They unnecessarily stop your transactions and and ask for ID, once provided they start asking for recipient ID. Once I uploaded this government ID, it refused it because it wasn’t in English? So why the hell would you give me the option to upload it? They don’t respond to you quick and I had to keep chasing them up. Also when I was chatting to the online web chat, I asked why I had to upload all of these ID and I was told it was the laws of the countries, so then I asked how come my uncle who sent the same amount wasn’t required to do this (Upload ID) a few days ago and then she apologised for lying to me. So it’s all just unnecessary headache. Avoid\n",
      "  (0, 661)\t0.08833690249445195\n",
      "  (0, 2389)\t0.12623834598348602\n",
      "  (0, 5250)\t0.12143222577621235\n",
      "  (0, 3031)\t0.12623834598348602\n",
      "  (0, 521)\t0.13301219196149594\n",
      "  (0, 4509)\t0.07591442032400252\n",
      "  (0, 2050)\t0.07434705044436425\n",
      "  (0, 4196)\t0.09935049716003043\n",
      "  (0, 475)\t0.07138444458218961\n",
      "  (0, 4338)\t0.067162708144117\n",
      "  (0, 5487)\t0.06904953128803688\n",
      "  (0, 5202)\t0.12143222577621235\n",
      "  (0, 4953)\t0.11817822423559352\n",
      "  (0, 1320)\t0.09630456763490894\n",
      "  (0, 2872)\t0.13301219196149594\n",
      "  (0, 4960)\t0.07675693630916836\n",
      "  (0, 585)\t0.13274157857266375\n",
      "  (0, 1010)\t0.09725947666149744\n",
      "  (0, 5442)\t0.10788453382019252\n",
      "  (0, 1013)\t0.11770430932332393\n",
      "  (0, 5280)\t0.053741648649864894\n",
      "  (0, 4951)\t0.05027729110409512\n",
      "  (0, 1009)\t0.11770430932332393\n",
      "  (0, 2798)\t0.07159459024344704\n",
      "  (0, 3900)\t0.06517697012388479\n",
      "  :\t:\n",
      "  (0, 4961)\t0.11817115264867308\n",
      "  (0, 1117)\t0.09016122515474177\n",
      "  (0, 4975)\t0.07984356379851403\n",
      "  (0, 5038)\t0.06353239484979444\n",
      "  (0, 2786)\t0.05425800109092031\n",
      "  (0, 5423)\t0.11452290151878095\n",
      "  (0, 412)\t0.08062949747332046\n",
      "  (0, 436)\t0.10275036829497586\n",
      "  (0, 2508)\t0.3852374451013677\n",
      "  (0, 3409)\t0.07578130861498943\n",
      "  (0, 2559)\t0.03881581023665685\n",
      "  (0, 4614)\t0.14405093136911515\n",
      "  (0, 2479)\t0.06606424197391961\n",
      "  (0, 4946)\t0.15965186302638573\n",
      "  (0, 1411)\t0.055421326598891034\n",
      "  (0, 2731)\t0.19429385581365505\n",
      "  (0, 1638)\t0.05359700393860121\n",
      "  (0, 482)\t0.12281579284860393\n",
      "  (0, 3270)\t0.03331819329074945\n",
      "  (0, 3447)\t0.0745982786340817\n",
      "  (0, 2125)\t0.10696894662275175\n",
      "  (0, 5621)\t0.08304084298129888\n",
      "  (0, 5624)\t0.04964022966316948\n",
      "  (0, 5029)\t0.18030212793053932\n",
      "  (0, 5579)\t0.05746956510275331\n",
      "[[0. 0. 0. ... 0. 0. 0.]]\n"
     ]
    }
   ],
   "source": [
    "\n",
    "vectorizer = TfidfVectorizer()\n",
    "train_x_vectors = vectorizer.fit_transform(train_x)\n",
    "\n",
    "test_x_vectors = vectorizer.transform(test_x)\n",
    "\n",
    "print(train_x[10])\n",
    "print(train_x_vectors[10])\n",
    "print(train_x_vectors[10].toarray())\n",
    "\n"
   ]
  },
  {
   "cell_type": "markdown",
   "metadata": {},
   "source": [
    "### Fitting Sklearn Classifier"
   ]
  },
  {
   "cell_type": "markdown",
   "metadata": {},
   "source": [
    "### 1.Suppport Vector Machine"
   ]
  },
  {
   "cell_type": "code",
   "execution_count": 12,
   "metadata": {},
   "outputs": [
    {
     "name": "stdout",
     "output_type": "stream",
     "text": [
      "670\n",
      "why has my honest but critical review of World Remit posted yesterday been removed? Do you censor negative comments? So far, the dispute with them has cost me over 2 hours of effort. Calling them on the phone to complain takes a long time, and the four people I have spoken to by phone simply procrastinate. Complaints on the web are registered but appear never to be replied to. I had a good experience with them for 18 months, but the 19th transaction was very problematic and is not yet resolved.\n",
      "Actual: NEGATIVE\n",
      "Prediction ['NEGATIVE']\n"
     ]
    },
    {
     "data": {
      "image/png": "[encoded data removed]",
      "text/plain": [
       "<Figure size 432x288 with 2 Axes>"
      ]
     },
     "metadata": {
      "needs_background": "light"
     },
     "output_type": "display_data"
    }
   ],
   "source": [
    "\n",
    "\n",
    "#train SVM classifier\n",
    "clf_svm = svm.SVC(kernel='linear')\n",
    "\n",
    "clf_svm.fit(train_x_vectors, train_y)\n",
    "#random prediction using SVM\n",
    "\n",
    "i = np.random.randint(0,1000)\n",
    "print(i)\n",
    "print(test_x[i])\n",
    "print(\"Actual:\",test_y[i])\n",
    "print(\"Prediction\",clf_svm.predict(test_x_vectors[i]))\n",
    "\n",
    "#confusion matrix  for SVM - you can have the confusion matrices for the other classifiers\n",
    "labels = [\"NEGATIVE\",\"POSITIVE\"]\n",
    "pred_svm = clf_svm.predict(test_x_vectors)\n",
    "cm =confusion_matrix(test_y,pred_svm)\n",
    "\n",
    "df_cm = pd.DataFrame(cm, index=labels, columns=labels)\n",
    "\n",
    "sb.heatmap(df_cm, annot=True, fmt='d') #truth is on \"y\" and predicted is on \"x\".\n",
    "plt.title(\"Confusion matrix from SVM [Balanced]\")\n",
    "plt.savefig(\"./plots/confusion_balanced.png\")"
   ]
  },
  {
   "cell_type": "markdown",
   "metadata": {},
   "source": [
    "### 2) Decision Trees"
   ]
  },
  {
   "cell_type": "code",
   "execution_count": 13,
   "metadata": {},
   "outputs": [
    {
     "name": "stdout",
     "output_type": "stream",
     "text": [
      "494\n",
      "Beware of those Scammers. They take your money and then the show begins. Prepare yourself to call them every day, send same papers. Answer strange questions, everything necessary to hold your money and never pay your transaction.\n",
      "Actual: NEGATIVE\n",
      "Prediction ['POSITIVE']\n"
     ]
    }
   ],
   "source": [
    "from sklearn.tree import DecisionTreeClassifier\n",
    "\n",
    "clf_dec = DecisionTreeClassifier()\n",
    "clf_dec.fit(train_x_vectors, train_y)\n",
    "\n",
    "i = np.random.randint(0,1000)\n",
    "print(i)\n",
    "print(test_x[i])\n",
    "print(\"Actual:\",test_y[i])\n",
    "print(\"Prediction\",clf_dec.predict(test_x_vectors[0]))\n",
    "\n"
   ]
  },
  {
   "cell_type": "markdown",
   "metadata": {},
   "source": [
    "### 3) Naive Bayes (Gaussian)"
   ]
  },
  {
   "cell_type": "code",
   "execution_count": 14,
   "metadata": {},
   "outputs": [
    {
     "name": "stdout",
     "output_type": "stream",
     "text": [
      "656\n",
      "Fabulous service. Goodbye western union\n",
      "Actual: POSITIVE\n",
      "Prediction ['POSITIVE']\n"
     ]
    }
   ],
   "source": [
    "\n",
    "\n",
    "clf_gnb = DecisionTreeClassifier()\n",
    "clf_gnb.fit(train_x_vectors, train_y)\n",
    "\n",
    "clf_gnb.predict(test_x_vectors[0])\n",
    "\n",
    "\n",
    "i = np.random.randint(0,1000)\n",
    "print(i)\n",
    "print(test_x[i])\n",
    "print(\"Actual:\",test_y[i])\n",
    "print(\"Prediction\",clf_gnb.predict(test_x_vectors[0]))\n",
    "\n"
   ]
  },
  {
   "cell_type": "markdown",
   "metadata": {},
   "source": [
    "### 4) Logistic Regression"
   ]
  },
  {
   "cell_type": "code",
   "execution_count": 15,
   "metadata": {},
   "outputs": [
    {
     "name": "stderr",
     "output_type": "stream",
     "text": [
      "/usr/local/lib/python3.7/dist-packages/sklearn/linear_model/logistic.py:432: FutureWarning: Default solver will be changed to 'lbfgs' in 0.22. Specify a solver to silence this warning.\n",
      "  FutureWarning)\n"
     ]
    },
    {
     "data": {
      "text/plain": [
       "array(['POSITIVE'], dtype='<U8')"
      ]
     },
     "execution_count": 15,
     "metadata": {},
     "output_type": "execute_result"
    }
   ],
   "source": [
    "\n",
    "\n",
    "clf_log = LogisticRegression()\n",
    "clf_log.fit(train_x_vectors, train_y)\n",
    "\n",
    "clf_log.predict(test_x_vectors[0])\n",
    "\n"
   ]
  },
  {
   "cell_type": "markdown",
   "metadata": {},
   "source": [
    "### 4) Ensemble Random Forest"
   ]
  },
  {
   "cell_type": "code",
   "execution_count": 16,
   "metadata": {},
   "outputs": [
    {
     "name": "stdout",
     "output_type": "stream",
     "text": [
      "714\n",
      "If you use their services make sure you don't do a back-to-back payment because they will just cancel your account even after you send them all the information that they are asking for and you prove your identity\n",
      "Actual: NEGATIVE\n",
      "Prediction ['POSITIVE']\n"
     ]
    },
    {
     "name": "stderr",
     "output_type": "stream",
     "text": [
      "/usr/local/lib/python3.7/dist-packages/sklearn/ensemble/forest.py:245: FutureWarning: The default value of n_estimators will change from 10 in version 0.20 to 100 in 0.22.\n",
      "  \"10 in version 0.20 to 100 in 0.22.\", FutureWarning)\n"
     ]
    }
   ],
   "source": [
    "clf_rf = RandomForestClassifier(max_depth=2, random_state=0)\n",
    "clf_rf.fit(train_x_vectors, train_y)\n",
    "\n",
    "i = np.random.randint(0,1000)\n",
    "print(i)\n",
    "print(test_x[i])\n",
    "print(\"Actual:\",test_y[i])\n",
    "print(\"Prediction\",clf_rf.predict(test_x_vectors[0]))\n",
    "\n"
   ]
  },
  {
   "cell_type": "markdown",
   "metadata": {},
   "source": [
    "### Scoring all the models fitted"
   ]
  },
  {
   "cell_type": "code",
   "execution_count": 17,
   "metadata": {},
   "outputs": [
    {
     "data": {
      "image/png": "[encoded data removed]",
      "text/plain": [
       "<Figure size 432x288 with 1 Axes>"
      ]
     },
     "metadata": {
      "needs_background": "light"
     },
     "output_type": "display_data"
    },
    {
     "data": {
      "text/plain": [
       "<Figure size 504x504 with 0 Axes>"
      ]
     },
     "metadata": {},
     "output_type": "display_data"
    },
    {
     "name": "stdout",
     "output_type": "stream",
     "text": [
      "0.8887775551102205\n",
      "0.7935871743486974\n",
      "0.8046092184368737\n",
      "0.8767535070140281\n",
      "0.7394789579158316\n"
     ]
    }
   ],
   "source": [
    "classifiers = [\"SVM\",\"DTC\",\"NB(G)\",\"LOGISTIC\",\"ERF\"]\n",
    "\n",
    "svm_score = clf_svm.score(test_x_vectors, test_y)\n",
    "\n",
    "dtc_score = clf_dec.score(test_x_vectors, test_y)\n",
    "\n",
    "nbg_score = clf_gnb.score(test_x_vectors, test_y)\n",
    "\n",
    "logistic_score = clf_log.score(test_x_vectors, test_y)\n",
    "\n",
    "rf_score = clf_rf.score(test_x_vectors, test_y)\n",
    "\n",
    "scores =[svm_score,dtc_score,nbg_score,logistic_score,rf_score ]\n",
    "\n",
    "plt.bar(classifiers,scores)\n",
    "plt.title(\"Accuracy Scores for Different Classifiers[Balanced]\")\n",
    "plt.xlabel(\"Classifiers\")\n",
    "plt.ylabel(\"Accuracy\")\n",
    "plt.savefig(\"./plots/accuracy[Balanced].png\")\n",
    "plt.figure(figsize=(7,7))\n",
    "plt.show()\n",
    "\n",
    "print(svm_score)\n",
    "print(dtc_score)\n",
    "print(nbg_score)\n",
    "print(logistic_score )\n",
    "print(rf_score )\n"
   ]
  },
  {
   "cell_type": "code",
   "execution_count": 18,
   "metadata": {},
   "outputs": [
    {
     "name": "stdout",
     "output_type": "stream",
     "text": [
      "[0.89042448 0.88708037]\n",
      "[0.79724409 0.78979592]\n",
      "[0.80712166 0.80203046]\n",
      "[0.87761194 0.87588295]\n",
      "[0.76827094 0.70251716]\n"
     ]
    },
    {
     "name": "stderr",
     "output_type": "stream",
     "text": [
      "/usr/lib/python3/dist-packages/matplotlib/figure.py:445: UserWarning: Matplotlib is currently using module://ipykernel.pylab.backend_inline, which is a non-GUI backend, so cannot show the figure.\n",
      "  % get_backend())\n"
     ]
    },
    {
     "data": {
      "image/png": "[encoded data removed]",
      "text/plain": [
       "<Figure size 432x288 with 1 Axes>"
      ]
     },
     "metadata": {
      "needs_background": "light"
     },
     "output_type": "display_data"
    }
   ],
   "source": [
    "# F1 Scores\n",
    "\n",
    "#calculating f1 score\n",
    "f1_svm =(f1_score(test_y, clf_svm.predict(test_x_vectors), average=None, \n",
    "                  labels=[Sentiment.POSITIVE, Sentiment.NEGATIVE]))\n",
    "f1_dtc = (f1_score(test_y, clf_dec.predict(test_x_vectors), average=None, \n",
    "                   labels=[Sentiment.POSITIVE, Sentiment.NEGATIVE]))\n",
    "f1_nb = (f1_score(test_y, clf_gnb.predict(test_x_vectors), average=None, \n",
    "                  labels=[Sentiment.POSITIVE,  Sentiment.NEGATIVE]))\n",
    "\n",
    "f1_logistic = (f1_score(test_y, clf_log.predict(test_x_vectors), average=None, \n",
    "                        labels=[Sentiment.POSITIVE, Sentiment.NEGATIVE]))\n",
    "\n",
    "f1_rf = (f1_score(test_y, clf_rf.predict(test_x_vectors), average=None, \n",
    "                        labels=[Sentiment.POSITIVE, Sentiment.NEGATIVE]))\n",
    "# plotting f1 scores\n",
    "\n",
    "classifiers = [\"SVM\",\"DTC\",\"NB\",\"LOGISITIC\",\"ERF\"]\n",
    "f1_svm_,f1_dtc_,f1_nb_,f1_logistic_,f1_rf_= list(f1_svm),list(f1_dtc),list(f1_nb),list(f1_logistic),list(f1_rf)\n",
    "data = []\n",
    "for i,j,k,l,m in zip(f1_svm_,f1_dtc_,f1_nb_,f1_logistic_,f1_rf_):\n",
    "    data.append([i,j,k,l,m])\n",
    "    \n",
    "x = np.arange(len(classifiers))  # the label locations\n",
    "width = 0.35  # the width of the bars\n",
    "\n",
    "fig, ax = plt.subplots()\n",
    "rects1 = ax.bar(x - width/2, data[0], width, label='POSITIVE')\n",
    "rects3 = ax.bar(x + width, data[1], width, label='NEGATIVE')\n",
    "\n",
    "\n",
    "# Add some text for labels, title and custom x-axis tick labels, etc.\n",
    "ax.set_ylabel('Scores')\n",
    "ax.set_title('F1 scores by review kind and classifier kind [Balanced data]')\n",
    "ax.set_xticks(x)\n",
    "ax.set_xticklabels(classifiers)\n",
    "ax.legend()\n",
    "plt.savefig(\"./plots/f1_balanced.png\")\n",
    "fig.show()\n",
    "\n",
    "#print f1 scores\n",
    "print(f1_svm)\n",
    "print(f1_dtc)\n",
    "print(f1_nb)\n",
    "print(f1_logistic)\n",
    "print(f1_rf)"
   ]
  },
  {
   "cell_type": "markdown",
   "metadata": {},
   "source": [
    "### Saving the trained models as .json file"
   ]
  },
  {
   "cell_type": "code",
   "execution_count": 19,
   "metadata": {},
   "outputs": [],
   "source": [
    "import pickle\n",
    "\n",
    "with open('./models/review_classifier.pkl', 'wb') as f:\n",
    "    pickle.dump(clf_svm, f)"
   ]
  },
  {
   "cell_type": "code",
   "execution_count": 20,
   "metadata": {},
   "outputs": [],
   "source": [
    "with open('./models/review_classifier.pkl', 'rb') as f:\n",
    "    loaded_clf = pickle.load(f)"
   ]
  },
  {
   "cell_type": "code",
   "execution_count": 21,
   "metadata": {},
   "outputs": [
    {
     "name": "stdout",
     "output_type": "stream",
     "text": [
      "The moment you finish the transaction the money is sent and the receiver get it right way ! Fantastic\n"
     ]
    },
    {
     "data": {
      "text/plain": [
       "array(['POSITIVE'], dtype='<U8')"
      ]
     },
     "execution_count": 21,
     "metadata": {},
     "output_type": "execute_result"
    }
   ],
   "source": [
    "print(test_x[120])\n",
    "\n",
    "loaded_clf.predict(test_x_vectors[120])"
   ]
  },
  {
   "cell_type": "markdown",
   "metadata": {},
   "source": [
    "### Test your texts"
   ]
  },
  {
   "cell_type": "code",
   "execution_count": 22,
   "metadata": {},
   "outputs": [
    {
     "data": {
      "text/plain": [
       "array(['POSITIVE', 'NEGATIVE', 'POSITIVE'], dtype='<U8')"
      ]
     },
     "execution_count": 22,
     "metadata": {},
     "output_type": "execute_result"
    }
   ],
   "source": [
    "test_set = ['very fun', \"Really bad service!!\", 'Fast']\n",
    "new_test = vectorizer.transform(test_set)\n",
    "\n",
    "clf_svm.predict(new_test)\n"
   ]
  },
  {
   "cell_type": "code",
   "execution_count": null,
   "metadata": {},
   "outputs": [],
   "source": []
  },
  {
   "cell_type": "code",
   "execution_count": null,
   "metadata": {},
   "outputs": [],
   "source": []
  },
  {
   "cell_type": "code",
   "execution_count": null,
   "metadata": {},
   "outputs": [],
   "source": []
  },
  {
   "cell_type": "code",
   "execution_count": null,
   "metadata": {},
   "outputs": [],
   "source": []
  },
  {
   "cell_type": "code",
   "execution_count": null,
   "metadata": {},
   "outputs": [],
   "source": []
  },
  {
   "cell_type": "code",
   "execution_count": null,
   "metadata": {},
   "outputs": [],
   "source": []
  },
  {
   "cell_type": "code",
   "execution_count": null,
   "metadata": {},
   "outputs": [],
   "source": []
  },
  {
   "cell_type": "code",
   "execution_count": null,
   "metadata": {},
   "outputs": [],
   "source": []
  },
  {
   "cell_type": "code",
   "execution_count": null,
   "metadata": {},
   "outputs": [],
   "source": []
  },
  {
   "cell_type": "code",
   "execution_count": null,
   "metadata": {},
   "outputs": [],
   "source": []
  },
  {
   "cell_type": "code",
   "execution_count": null,
   "metadata": {},
   "outputs": [],
   "source": []
  },
  {
   "cell_type": "code",
   "execution_count": null,
   "metadata": {},
   "outputs": [],
   "source": []
  }
 ],
 "metadata": {
  "kernelspec": {
   "display_name": "Python 3",
   "language": "python",
   "name": "python3"
  },
  "language_info": {
   "codemirror_mode": {
    "name": "ipython",
    "version": 3
   },
   "file_extension": ".py",
   "mimetype": "text/x-python",
   "name": "python",
   "nbconvert_exporter": "python",
   "pygments_lexer": "ipython3",
   "version": "3.7.3"
  }
 },
 "nbformat": 4,
 "nbformat_minor": 2
}
